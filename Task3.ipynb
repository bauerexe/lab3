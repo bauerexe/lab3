{
 "cells": [
  {
   "metadata": {},
   "cell_type": "markdown",
   "source": [
    "# Основное задание: Изучение библиотечных функций\n",
    "\n",
    "### Требования: keras.optimizers, torch.optim: SGD, и модификации SGD (Nesterov, Momentum, AdaGrad, RMSProp, Adam). Изучите параметры вызываемых библиотечных функций.\n",
    "\n",
    "# Изучение библиотеки _torch_\n",
    "\n",
    "##### Выбираем как _target_ alcohol и обучаем модель на датасете\n",
    "\n",
    "### ***SGD***:"
   ],
   "id": "6ba3d101b8af0f17"
  },
  {
   "metadata": {
    "ExecuteTime": {
     "end_time": "2025-05-30T13:15:43.947156Z",
     "start_time": "2025-05-30T13:15:32.946958Z"
    }
   },
   "cell_type": "code",
   "source": [
    "from libs.chooseLib import choose_model\n",
    "import numpy as np\n",
    "\n",
    "if __name__ == '__main__':\n",
    "    sample_raw = np.asarray(\n",
    "            [[7.4, 0.70, 0.00, 1.9, 0.076, 11, 34, 0.9978, 3.51, 0.56, 5]]\n",
    "        )\n",
    "\n",
    "    model, scaler = choose_model('alcohol',\"torch\", \"SGD\")\n",
    "    sample_scaled = scaler.transform(sample_raw)\n",
    "    print(model(sample_scaled))"
   ],
   "id": "5f60b98700569a9b",
   "outputs": [
    {
     "name": "stderr",
     "output_type": "stream",
     "text": [
      "2025-05-30 16:15:36.891361: E external/local_xla/xla/stream_executor/cuda/cuda_fft.cc:467] Unable to register cuFFT factory: Attempting to register factory for plugin cuFFT when one has already been registered\n",
      "WARNING: All log messages before absl::InitializeLog() is called are written to STDERR\n",
      "E0000 00:00:1748610937.016600    6677 cuda_dnn.cc:8579] Unable to register cuDNN factory: Attempting to register factory for plugin cuDNN when one has already been registered\n",
      "E0000 00:00:1748610937.051117    6677 cuda_blas.cc:1407] Unable to register cuBLAS factory: Attempting to register factory for plugin cuBLAS when one has already been registered\n",
      "W0000 00:00:1748610937.313403    6677 computation_placer.cc:177] computation placer already registered. Please check linkage and avoid linking the same target more than once.\n",
      "W0000 00:00:1748610937.313428    6677 computation_placer.cc:177] computation placer already registered. Please check linkage and avoid linking the same target more than once.\n",
      "W0000 00:00:1748610937.313431    6677 computation_placer.cc:177] computation placer already registered. Please check linkage and avoid linking the same target more than once.\n",
      "W0000 00:00:1748610937.313432    6677 computation_placer.cc:177] computation placer already registered. Please check linkage and avoid linking the same target more than once.\n",
      "2025-05-30 16:15:37.349158: I tensorflow/core/platform/cpu_feature_guard.cc:210] This TensorFlow binary is optimized to use available CPU instructions in performance-critical operations.\n",
      "To enable the following instructions: AVX2 FMA, in other operations, rebuild TensorFlow with the appropriate compiler flags.\n"
     ]
    },
    {
     "name": "stdout",
     "output_type": "stream",
     "text": [
      "[DataLoader] shape=(1599, 12)\n",
      "MSE: 0.35177, MAE: 0.45827, R²: 0.71744\n",
      "9.61831\n"
     ]
    }
   ],
   "execution_count": 1
  },
  {
   "metadata": {},
   "cell_type": "markdown",
   "source": "### ***Momentum***:",
   "id": "53f987ef5799b32c"
  },
  {
   "metadata": {
    "ExecuteTime": {
     "end_time": "2025-05-30T13:15:43.999209Z",
     "start_time": "2025-05-30T13:15:43.959501Z"
    }
   },
   "cell_type": "code",
   "source": [
    "    model, _ = choose_model('alcohol',\"torch\", \"Momentum\")\n",
    "    print(model(sample_scaled))"
   ],
   "id": "41eb2711c2d62e83",
   "outputs": [
    {
     "name": "stdout",
     "output_type": "stream",
     "text": [
      "[DataLoader] shape=(1599, 12)\n",
      "MSE: 0.34634, MAE: 0.45564, R²: 0.72180\n",
      "9.653122\n"
     ]
    }
   ],
   "execution_count": 2
  },
  {
   "metadata": {},
   "cell_type": "markdown",
   "source": "### ***Nesterov***:",
   "id": "4061022223641adc"
  },
  {
   "metadata": {
    "ExecuteTime": {
     "end_time": "2025-05-30T13:15:44.125236Z",
     "start_time": "2025-05-30T13:15:44.094999Z"
    }
   },
   "cell_type": "code",
   "source": [
    "    model, _ = choose_model('alcohol',\"torch\", \"Nesterov\")\n",
    "    print(model(sample_scaled))"
   ],
   "id": "1eb64f5d058ddfd7",
   "outputs": [
    {
     "name": "stdout",
     "output_type": "stream",
     "text": [
      "[DataLoader] shape=(1599, 12)\n",
      "MSE: 0.34511, MAE: 0.45150, R²: 0.72278\n",
      "9.624101\n"
     ]
    }
   ],
   "execution_count": 3
  },
  {
   "metadata": {},
   "cell_type": "markdown",
   "source": "### ***RMSProp***:",
   "id": "3d0f007ddfaa6f59"
  },
  {
   "metadata": {
    "ExecuteTime": {
     "end_time": "2025-05-30T13:15:44.179380Z",
     "start_time": "2025-05-30T13:15:44.141905Z"
    }
   },
   "cell_type": "code",
   "source": [
    "    model, _ = choose_model('alcohol',\"torch\", \"RMSProp\")\n",
    "    print(model(sample_scaled))"
   ],
   "id": "f207f65599caad77",
   "outputs": [
    {
     "name": "stdout",
     "output_type": "stream",
     "text": [
      "[DataLoader] shape=(1599, 12)\n",
      "MSE: 0.36759, MAE: 0.45572, R²: 0.70473\n",
      "9.388223\n"
     ]
    }
   ],
   "execution_count": 4
  },
  {
   "metadata": {},
   "cell_type": "markdown",
   "source": "### ***Adam***:",
   "id": "759a67db5a05b679"
  },
  {
   "metadata": {
    "ExecuteTime": {
     "end_time": "2025-05-30T13:15:44.239944Z",
     "start_time": "2025-05-30T13:15:44.200823Z"
    }
   },
   "cell_type": "code",
   "source": [
    "    model, _ = choose_model('alcohol',\"torch\", \"Adam\", lr=0.5)\n",
    "    print(model(sample_scaled))"
   ],
   "id": "ac5db5971b1811d1",
   "outputs": [
    {
     "name": "stdout",
     "output_type": "stream",
     "text": [
      "[DataLoader] shape=(1599, 12)\n",
      "MSE: 0.34983, MAE: 0.46071, R²: 0.71899\n",
      "9.679335\n"
     ]
    }
   ],
   "execution_count": 5
  },
  {
   "metadata": {},
   "cell_type": "markdown",
   "source": "### ***AdaGrad***:",
   "id": "2b4dd47bb0cdd26b"
  },
  {
   "metadata": {
    "ExecuteTime": {
     "end_time": "2025-05-30T13:15:44.283490Z",
     "start_time": "2025-05-30T13:15:44.248119Z"
    }
   },
   "cell_type": "code",
   "source": [
    "    model, _ = choose_model('alcohol',\"torch\", \"AdaGrad\", lr=0.9999991)\n",
    "    print(model(sample_scaled))"
   ],
   "id": "b1140970daa5a274",
   "outputs": [
    {
     "name": "stdout",
     "output_type": "stream",
     "text": [
      "[DataLoader] shape=(1599, 12)\n",
      "MSE: 0.43611, MAE: 0.49340, R²: 0.64969\n",
      "9.313658\n"
     ]
    }
   ],
   "execution_count": 6
  },
  {
   "metadata": {},
   "cell_type": "markdown",
   "source": [
    "---\n",
    "_Real Value: 9.4_\n",
    "\n",
    "| Optimizer    |     MSE      |     MAE      |     R²      | Predict Value (s) |\n",
    "|--------------|--------------|--------------|-------------|-------------------|\n",
    "| SGD          |   0.35582    |   0.46175    |   0.71418   | 9.615764          |\n",
    "| Momentum     |   0.34623    |   0.45548    |   0.72189   | 9.652524          |\n",
    "| Nesterov     |   0.34510    |   0.45149    |   0.72279   | 9.624092          |\n",
    "| RMSProp      |   0.36799    |   0.45324    |   0.70441   | 9.463510          |\n",
    "| Adam         |   0.34945    |   0.46032    |   0.71930   | 9.677068          |\n",
    "| AdaGrad      |   0.47579    |   0.51806    |   0.61781   | 9.254324          |\n",
    "\n",
    "---"
   ],
   "id": "2c69c17260715d0e"
  },
  {
   "metadata": {},
   "cell_type": "markdown",
   "source": "# Изучаем библиотеку _keras_",
   "id": "eec112fa597eb945"
  },
  {
   "metadata": {},
   "cell_type": "markdown",
   "source": "### ***SGD***:",
   "id": "8f8e5a7e015ff4ee"
  },
  {
   "metadata": {
    "ExecuteTime": {
     "end_time": "2025-05-30T13:15:45.402412Z",
     "start_time": "2025-05-30T13:15:44.299568Z"
    }
   },
   "cell_type": "code",
   "source": [
    "    model, _ = choose_model('alcohol',\"tensorflow\", \"SGD\")\n",
    "    print(model(sample_scaled))"
   ],
   "id": "7a06249c1e8097b",
   "outputs": [
    {
     "name": "stdout",
     "output_type": "stream",
     "text": [
      "[DataLoader] shape=(1599, 12)\n"
     ]
    },
    {
     "name": "stderr",
     "output_type": "stream",
     "text": [
      "I0000 00:00:1748610944.407361    6677 gpu_device.cc:2019] Created device /job:localhost/replica:0/task:0/device:GPU:0 with 6283 MB memory:  -> device: 0, name: NVIDIA GeForce RTX 3070 Laptop GPU, pci bus id: 0000:01:00.0, compute capability: 8.6\n",
      "/home/brx/PyCharmMiscProject/.venv/lib/python3.12/site-packages/keras/src/layers/core/dense.py:93: UserWarning: Do not pass an `input_shape`/`input_dim` argument to a layer. When using Sequential models, prefer using an `Input(shape)` object as the first layer in the model instead.\n",
      "  super().__init__(activity_regularizer=activity_regularizer, **kwargs)\n",
      "2025-05-30 16:15:44.779586: W external/local_xla/xla/service/gpu/llvm_gpu_backend/default/nvptx_libdevice_path.cc:40] Can't find libdevice directory ${CUDA_DIR}/nvvm/libdevice. This may result in compilation or runtime failures, if the program we try to run uses routines from libdevice.\n",
      "Searched for CUDA in the following directories:\n",
      "  ./cuda_sdk_lib\n",
      "  ipykernel_launcher.runfiles/cuda_nvcc\n",
      "  ipykern/cuda_nvcc\n",
      "  \n",
      "  /usr/local/cuda\n",
      "  /opt/cuda\n",
      "  /home/brx/PyCharmMiscProject/.venv/lib/python3.12/site-packages/tensorflow/python/platform/../../../nvidia/cuda_nvcc\n",
      "  /home/brx/PyCharmMiscProject/.venv/lib/python3.12/site-packages/tensorflow/python/platform/../../../../nvidia/cuda_nvcc\n",
      "  /home/brx/PyCharmMiscProject/.venv/lib/python3.12/site-packages/tensorflow/python/platform/../../cuda\n",
      "  /home/brx/PyCharmMiscProject/.venv/lib/python3.12/site-packages/tensorflow/python/platform/../../../../../..\n",
      "  /home/brx/PyCharmMiscProject/.venv/lib/python3.12/site-packages/tensorflow/python/platform/../../../../../../..\n",
      "  .\n",
      "You can choose the search directory by setting xla_gpu_cuda_data_dir in HloModule's DebugOptions.  For most apps, setting the environment variable XLA_FLAGS=--xla_gpu_cuda_data_dir=/path/to/cuda will work.\n",
      "2025-05-30 16:15:44.811234: W tensorflow/compiler/mlir/tools/kernel_gen/transforms/gpu_kernel_to_blob_pass.cc:187] Failed to compile generated PTX with ptxas. Falling back to compilation by driver.\n",
      "2025-05-30 16:15:44.812895: W tensorflow/compiler/mlir/tools/kernel_gen/transforms/gpu_kernel_to_blob_pass.cc:187] Failed to compile generated PTX with ptxas. Falling back to compilation by driver.\n",
      "2025-05-30 16:15:44.814493: W tensorflow/compiler/mlir/tools/kernel_gen/transforms/gpu_kernel_to_blob_pass.cc:187] Failed to compile generated PTX with ptxas. Falling back to compilation by driver.\n",
      "2025-05-30 16:15:44.816484: W tensorflow/compiler/mlir/tools/kernel_gen/transforms/gpu_kernel_to_blob_pass.cc:187] Failed to compile generated PTX with ptxas. Falling back to compilation by driver.\n",
      "2025-05-30 16:15:44.818265: W tensorflow/compiler/mlir/tools/kernel_gen/transforms/gpu_kernel_to_blob_pass.cc:187] Failed to compile generated PTX with ptxas. Falling back to compilation by driver.\n",
      "2025-05-30 16:15:44.820712: W tensorflow/compiler/mlir/tools/kernel_gen/transforms/gpu_kernel_to_blob_pass.cc:187] Failed to compile generated PTX with ptxas. Falling back to compilation by driver.\n",
      "2025-05-30 16:15:44.822611: W tensorflow/compiler/mlir/tools/kernel_gen/transforms/gpu_kernel_to_blob_pass.cc:187] Failed to compile generated PTX with ptxas. Falling back to compilation by driver.\n",
      "2025-05-30 16:15:44.824014: W tensorflow/compiler/mlir/tools/kernel_gen/transforms/gpu_kernel_to_blob_pass.cc:187] Failed to compile generated PTX with ptxas. Falling back to compilation by driver.\n",
      "2025-05-30 16:15:44.825602: W tensorflow/compiler/mlir/tools/kernel_gen/transforms/gpu_kernel_to_blob_pass.cc:187] Failed to compile generated PTX with ptxas. Falling back to compilation by driver.\n",
      "2025-05-30 16:15:44.827096: W tensorflow/compiler/mlir/tools/kernel_gen/transforms/gpu_kernel_to_blob_pass.cc:187] Failed to compile generated PTX with ptxas. Falling back to compilation by driver.\n",
      "2025-05-30 16:15:44.829127: W tensorflow/compiler/mlir/tools/kernel_gen/transforms/gpu_kernel_to_blob_pass.cc:187] Failed to compile generated PTX with ptxas. Falling back to compilation by driver.\n",
      "2025-05-30 16:15:44.830869: W tensorflow/compiler/mlir/tools/kernel_gen/transforms/gpu_kernel_to_blob_pass.cc:187] Failed to compile generated PTX with ptxas. Falling back to compilation by driver.\n",
      "2025-05-30 16:15:44.832468: W tensorflow/compiler/mlir/tools/kernel_gen/transforms/gpu_kernel_to_blob_pass.cc:187] Failed to compile generated PTX with ptxas. Falling back to compilation by driver.\n",
      "2025-05-30 16:15:45.174340: W tensorflow/compiler/mlir/tools/kernel_gen/tf_gpu_runtime_wrappers.cc:40] 'cuModuleLoadData(&module, data)' failed with 'CUDA_ERROR_UNSUPPORTED_PTX_VERSION'\n",
      "\n",
      "2025-05-30 16:15:45.174369: W tensorflow/compiler/mlir/tools/kernel_gen/tf_gpu_runtime_wrappers.cc:40] 'cuModuleGetFunction(&function, module, kernel_name)' failed with 'CUDA_ERROR_INVALID_HANDLE'\n",
      "\n",
      "2025-05-30 16:15:45.174381: W tensorflow/core/framework/op_kernel.cc:1844] INTERNAL: 'cuLaunchKernel(function, gridX, gridY, gridZ, blockX, blockY, blockZ, 0, reinterpret_cast<CUstream>(stream), params, nullptr)' failed with 'CUDA_ERROR_INVALID_HANDLE'\n",
      "2025-05-30 16:15:45.174409: I tensorflow/core/framework/local_rendezvous.cc:407] Local rendezvous is aborting with status: INTERNAL: 'cuLaunchKernel(function, gridX, gridY, gridZ, blockX, blockY, blockZ, 0, reinterpret_cast<CUstream>(stream), params, nullptr)' failed with 'CUDA_ERROR_INVALID_HANDLE'\n"
     ]
    },
    {
     "ename": "InternalError",
     "evalue": "{{function_node __wrapped__FloorMod_device_/job:localhost/replica:0/task:0/device:GPU:0}} 'cuLaunchKernel(function, gridX, gridY, gridZ, blockX, blockY, blockZ, 0, reinterpret_cast<CUstream>(stream), params, nullptr)' failed with 'CUDA_ERROR_INVALID_HANDLE' [Op:FloorMod] name: ",
     "output_type": "error",
     "traceback": [
      "\u001B[31m---------------------------------------------------------------------------\u001B[39m",
      "\u001B[31mInternalError\u001B[39m                             Traceback (most recent call last)",
      "\u001B[36mCell\u001B[39m\u001B[36m \u001B[39m\u001B[32mIn[7]\u001B[39m\u001B[32m, line 1\u001B[39m\n\u001B[32m----> \u001B[39m\u001B[32m1\u001B[39m model, _ = \u001B[43mchoose_model\u001B[49m\u001B[43m(\u001B[49m\u001B[33;43m'\u001B[39;49m\u001B[33;43malcohol\u001B[39;49m\u001B[33;43m'\u001B[39;49m\u001B[43m,\u001B[49m\u001B[33;43m\"\u001B[39;49m\u001B[33;43mtensorflow\u001B[39;49m\u001B[33;43m\"\u001B[39;49m\u001B[43m,\u001B[49m\u001B[43m \u001B[49m\u001B[33;43m\"\u001B[39;49m\u001B[33;43mSGD\u001B[39;49m\u001B[33;43m\"\u001B[39;49m\u001B[43m)\u001B[49m\n\u001B[32m      2\u001B[39m \u001B[38;5;28mprint\u001B[39m(model(sample_scaled))\n",
      "\u001B[36mFile \u001B[39m\u001B[32m~/Загрузки/lab3/libs/chooseLib.py:30\u001B[39m, in \u001B[36mchoose_model\u001B[39m\u001B[34m(target, model, optimize, lr, epochs)\u001B[39m\n\u001B[32m     28\u001B[39m     \u001B[38;5;28;01mreturn\u001B[39;00m \u001B[38;5;28;01mlambda\u001B[39;00m X_input: res_model(X_input), scaler\n\u001B[32m     29\u001B[39m \u001B[38;5;28;01melif\u001B[39;00m model == \u001B[33m'\u001B[39m\u001B[33mtensorflow\u001B[39m\u001B[33m'\u001B[39m:\n\u001B[32m---> \u001B[39m\u001B[32m30\u001B[39m     res_model = \u001B[43mtensorflow_manual_train\u001B[49m\u001B[43m(\u001B[49m\u001B[43mX_train\u001B[49m\u001B[43m,\u001B[49m\u001B[43m \u001B[49m\u001B[43mX_test\u001B[49m\u001B[43m,\u001B[49m\u001B[43m \u001B[49m\u001B[43my_train\u001B[49m\u001B[43m,\u001B[49m\u001B[43m \u001B[49m\u001B[43my_test\u001B[49m\u001B[43m,\u001B[49m\u001B[43m \u001B[49m\u001B[43moptimize\u001B[49m\u001B[43m,\u001B[49m\u001B[43m \u001B[49m\u001B[43mlr\u001B[49m\u001B[43m,\u001B[49m\u001B[43m \u001B[49m\u001B[43mepochs\u001B[49m\u001B[43m)\u001B[49m\n\u001B[32m     31\u001B[39m     \u001B[38;5;28;01mreturn\u001B[39;00m \u001B[38;5;28;01mlambda\u001B[39;00m X_input: res_model(X_input), scaler\n",
      "\u001B[36mFile \u001B[39m\u001B[32m~/Загрузки/lab3/libs/keras_model.py:16\u001B[39m, in \u001B[36mtensorflow_manual_train\u001B[39m\u001B[34m(X_train, X_test, y_train, y_test, optimize, lr, epochs, batch_size)\u001B[39m\n\u001B[32m     13\u001B[39m X_test = tf.convert_to_tensor(X_test, dtype=tf.float32)\n\u001B[32m     15\u001B[39m \u001B[38;5;66;03m# Модель\u001B[39;00m\n\u001B[32m---> \u001B[39m\u001B[32m16\u001B[39m model = \u001B[43mtf\u001B[49m\u001B[43m.\u001B[49m\u001B[43mkeras\u001B[49m\u001B[43m.\u001B[49m\u001B[43mSequential\u001B[49m\u001B[43m(\u001B[49m\u001B[43m[\u001B[49m\n\u001B[32m     17\u001B[39m \u001B[43m    \u001B[49m\u001B[43mtf\u001B[49m\u001B[43m.\u001B[49m\u001B[43mkeras\u001B[49m\u001B[43m.\u001B[49m\u001B[43mlayers\u001B[49m\u001B[43m.\u001B[49m\u001B[43mDense\u001B[49m\u001B[43m(\u001B[49m\u001B[32;43m1\u001B[39;49m\u001B[43m,\u001B[49m\u001B[43m \u001B[49m\u001B[43minput_shape\u001B[49m\u001B[43m=\u001B[49m\u001B[43m(\u001B[49m\u001B[43mX_train\u001B[49m\u001B[43m.\u001B[49m\u001B[43mshape\u001B[49m\u001B[43m[\u001B[49m\u001B[32;43m1\u001B[39;49m\u001B[43m]\u001B[49m\u001B[43m,\u001B[49m\u001B[43m)\u001B[49m\u001B[43m)\u001B[49m\n\u001B[32m     18\u001B[39m \u001B[43m\u001B[49m\u001B[43m]\u001B[49m\u001B[43m)\u001B[49m\n\u001B[32m     20\u001B[39m \u001B[38;5;66;03m# Оптимизаторы\u001B[39;00m\n\u001B[32m     21\u001B[39m optimizer_options = {\n\u001B[32m     22\u001B[39m     \u001B[33m'\u001B[39m\u001B[33mSGD\u001B[39m\u001B[33m'\u001B[39m: tf.keras.optimizers.SGD(learning_rate=lr),\n\u001B[32m     23\u001B[39m     \u001B[33m'\u001B[39m\u001B[33mMomentum\u001B[39m\u001B[33m'\u001B[39m: tf.keras.optimizers.SGD(learning_rate=lr, momentum=\u001B[32m0.9\u001B[39m),\n\u001B[32m   (...)\u001B[39m\u001B[32m     27\u001B[39m     \u001B[33m'\u001B[39m\u001B[33mAdam\u001B[39m\u001B[33m'\u001B[39m: tf.keras.optimizers.Adam(learning_rate=lr),\n\u001B[32m     28\u001B[39m }\n",
      "\u001B[36mFile \u001B[39m\u001B[32m~/PyCharmMiscProject/.venv/lib/python3.12/site-packages/keras/src/models/sequential.py:76\u001B[39m, in \u001B[36mSequential.__init__\u001B[39m\u001B[34m(self, layers, trainable, name)\u001B[39m\n\u001B[32m     74\u001B[39m \u001B[38;5;28;01mfor\u001B[39;00m layer \u001B[38;5;129;01min\u001B[39;00m layers:\n\u001B[32m     75\u001B[39m     \u001B[38;5;28mself\u001B[39m.add(layer, rebuild=\u001B[38;5;28;01mFalse\u001B[39;00m)\n\u001B[32m---> \u001B[39m\u001B[32m76\u001B[39m \u001B[38;5;28;43mself\u001B[39;49m\u001B[43m.\u001B[49m\u001B[43m_maybe_rebuild\u001B[49m\u001B[43m(\u001B[49m\u001B[43m)\u001B[49m\n",
      "\u001B[36mFile \u001B[39m\u001B[32m~/PyCharmMiscProject/.venv/lib/python3.12/site-packages/keras/src/models/sequential.py:149\u001B[39m, in \u001B[36mSequential._maybe_rebuild\u001B[39m\u001B[34m(self)\u001B[39m\n\u001B[32m    147\u001B[39m \u001B[38;5;28;01mif\u001B[39;00m \u001B[38;5;28misinstance\u001B[39m(\u001B[38;5;28mself\u001B[39m._layers[\u001B[32m0\u001B[39m], InputLayer) \u001B[38;5;129;01mand\u001B[39;00m \u001B[38;5;28mlen\u001B[39m(\u001B[38;5;28mself\u001B[39m._layers) > \u001B[32m1\u001B[39m:\n\u001B[32m    148\u001B[39m     input_shape = \u001B[38;5;28mself\u001B[39m._layers[\u001B[32m0\u001B[39m].batch_shape\n\u001B[32m--> \u001B[39m\u001B[32m149\u001B[39m     \u001B[38;5;28;43mself\u001B[39;49m\u001B[43m.\u001B[49m\u001B[43mbuild\u001B[49m\u001B[43m(\u001B[49m\u001B[43minput_shape\u001B[49m\u001B[43m)\u001B[49m\n\u001B[32m    150\u001B[39m \u001B[38;5;28;01melif\u001B[39;00m \u001B[38;5;28mhasattr\u001B[39m(\u001B[38;5;28mself\u001B[39m._layers[\u001B[32m0\u001B[39m], \u001B[33m\"\u001B[39m\u001B[33minput_shape\u001B[39m\u001B[33m\"\u001B[39m) \u001B[38;5;129;01mand\u001B[39;00m \u001B[38;5;28mlen\u001B[39m(\u001B[38;5;28mself\u001B[39m._layers) > \u001B[32m1\u001B[39m:\n\u001B[32m    151\u001B[39m     \u001B[38;5;66;03m# We can build the Sequential model if the first layer has the\u001B[39;00m\n\u001B[32m    152\u001B[39m     \u001B[38;5;66;03m# `input_shape` property. This is most commonly found in Functional\u001B[39;00m\n\u001B[32m    153\u001B[39m     \u001B[38;5;66;03m# model.\u001B[39;00m\n\u001B[32m    154\u001B[39m     input_shape = \u001B[38;5;28mself\u001B[39m._layers[\u001B[32m0\u001B[39m].input_shape\n",
      "\u001B[36mFile \u001B[39m\u001B[32m~/PyCharmMiscProject/.venv/lib/python3.12/site-packages/keras/src/layers/layer.py:232\u001B[39m, in \u001B[36mLayer.__new__.<locals>.build_wrapper\u001B[39m\u001B[34m(*args, **kwargs)\u001B[39m\n\u001B[32m    230\u001B[39m \u001B[38;5;28;01mwith\u001B[39;00m obj._open_name_scope():\n\u001B[32m    231\u001B[39m     obj._path = current_path()\n\u001B[32m--> \u001B[39m\u001B[32m232\u001B[39m     \u001B[43moriginal_build_method\u001B[49m\u001B[43m(\u001B[49m\u001B[43m*\u001B[49m\u001B[43margs\u001B[49m\u001B[43m,\u001B[49m\u001B[43m \u001B[49m\u001B[43m*\u001B[49m\u001B[43m*\u001B[49m\u001B[43mkwargs\u001B[49m\u001B[43m)\u001B[49m\n\u001B[32m    233\u001B[39m \u001B[38;5;66;03m# Record build config.\u001B[39;00m\n\u001B[32m    234\u001B[39m signature = inspect.signature(original_build_method)\n",
      "\u001B[36mFile \u001B[39m\u001B[32m~/PyCharmMiscProject/.venv/lib/python3.12/site-packages/keras/src/models/sequential.py:195\u001B[39m, in \u001B[36mSequential.build\u001B[39m\u001B[34m(self, input_shape)\u001B[39m\n\u001B[32m    193\u001B[39m \u001B[38;5;28;01mfor\u001B[39;00m layer \u001B[38;5;129;01min\u001B[39;00m \u001B[38;5;28mself\u001B[39m._layers[\u001B[32m1\u001B[39m:]:\n\u001B[32m    194\u001B[39m     \u001B[38;5;28;01mtry\u001B[39;00m:\n\u001B[32m--> \u001B[39m\u001B[32m195\u001B[39m         x = \u001B[43mlayer\u001B[49m\u001B[43m(\u001B[49m\u001B[43mx\u001B[49m\u001B[43m)\u001B[49m\n\u001B[32m    196\u001B[39m     \u001B[38;5;28;01mexcept\u001B[39;00m \u001B[38;5;167;01mNotImplementedError\u001B[39;00m:\n\u001B[32m    197\u001B[39m         \u001B[38;5;66;03m# Can happen if shape inference is not implemented.\u001B[39;00m\n\u001B[32m    198\u001B[39m         \u001B[38;5;66;03m# TODO: consider reverting inbound nodes on layers processed.\u001B[39;00m\n\u001B[32m    199\u001B[39m         \u001B[38;5;28;01mreturn\u001B[39;00m\n",
      "\u001B[36mFile \u001B[39m\u001B[32m~/PyCharmMiscProject/.venv/lib/python3.12/site-packages/keras/src/utils/traceback_utils.py:122\u001B[39m, in \u001B[36mfilter_traceback.<locals>.error_handler\u001B[39m\u001B[34m(*args, **kwargs)\u001B[39m\n\u001B[32m    119\u001B[39m     filtered_tb = _process_traceback_frames(e.__traceback__)\n\u001B[32m    120\u001B[39m     \u001B[38;5;66;03m# To get the full stack trace, call:\u001B[39;00m\n\u001B[32m    121\u001B[39m     \u001B[38;5;66;03m# `keras.config.disable_traceback_filtering()`\u001B[39;00m\n\u001B[32m--> \u001B[39m\u001B[32m122\u001B[39m     \u001B[38;5;28;01mraise\u001B[39;00m e.with_traceback(filtered_tb) \u001B[38;5;28;01mfrom\u001B[39;00m\u001B[38;5;250m \u001B[39m\u001B[38;5;28;01mNone\u001B[39;00m\n\u001B[32m    123\u001B[39m \u001B[38;5;28;01mfinally\u001B[39;00m:\n\u001B[32m    124\u001B[39m     \u001B[38;5;28;01mdel\u001B[39;00m filtered_tb\n",
      "\u001B[36mFile \u001B[39m\u001B[32m~/PyCharmMiscProject/.venv/lib/python3.12/site-packages/keras/src/backend/tensorflow/random.py:19\u001B[39m, in \u001B[36m_cast_seed\u001B[39m\u001B[34m(seed)\u001B[39m\n\u001B[32m     17\u001B[39m     \u001B[38;5;28;01mreturn\u001B[39;00m seed\n\u001B[32m     18\u001B[39m \u001B[38;5;28;01melse\u001B[39;00m:\n\u001B[32m---> \u001B[39m\u001B[32m19\u001B[39m     seed = tf.cast(\u001B[43mtf\u001B[49m\u001B[43m.\u001B[49m\u001B[43mmath\u001B[49m\u001B[43m.\u001B[49m\u001B[43mfloormod\u001B[49m\u001B[43m(\u001B[49m\u001B[43mseed\u001B[49m\u001B[43m,\u001B[49m\u001B[43m \u001B[49m\u001B[43mtf\u001B[49m\u001B[43m.\u001B[49m\u001B[43mint32\u001B[49m\u001B[43m.\u001B[49m\u001B[43mmax\u001B[49m\u001B[43m \u001B[49m\u001B[43m-\u001B[49m\u001B[43m \u001B[49m\u001B[32;43m1\u001B[39;49m\u001B[43m)\u001B[49m, dtype=\u001B[33m\"\u001B[39m\u001B[33mint32\u001B[39m\u001B[33m\"\u001B[39m)\n\u001B[32m     20\u001B[39m     \u001B[38;5;28;01mreturn\u001B[39;00m seed\n",
      "\u001B[31mInternalError\u001B[39m: {{function_node __wrapped__FloorMod_device_/job:localhost/replica:0/task:0/device:GPU:0}} 'cuLaunchKernel(function, gridX, gridY, gridZ, blockX, blockY, blockZ, 0, reinterpret_cast<CUstream>(stream), params, nullptr)' failed with 'CUDA_ERROR_INVALID_HANDLE' [Op:FloorMod] name: "
     ]
    }
   ],
   "execution_count": 7
  },
  {
   "metadata": {},
   "cell_type": "markdown",
   "source": "### ***Momentum***:",
   "id": "6e144cd836e886a3"
  },
  {
   "metadata": {
    "ExecuteTime": {
     "end_time": "2025-05-30T13:15:45.408726196Z",
     "start_time": "2025-05-30T12:46:27.247410Z"
    }
   },
   "cell_type": "code",
   "source": [
    "    model, _ = choose_model('alcohol',\"tensorflow\", \"Momentum\")\n",
    "    print(model(sample_scaled))"
   ],
   "id": "a86cc2d696f525d9",
   "outputs": [
    {
     "name": "stdout",
     "output_type": "stream",
     "text": [
      "[DataLoader] shape=(1599, 12)\n"
     ]
    },
    {
     "name": "stderr",
     "output_type": "stream",
     "text": [
      "/home/letooow/PycharmProjects/PythonProject/.venv/lib/python3.12/site-packages/keras/src/layers/core/dense.py:93: UserWarning: Do not pass an `input_shape`/`input_dim` argument to a layer. When using Sequential models, prefer using an `Input(shape)` object as the first layer in the model instead.\n",
      "  super().__init__(activity_regularizer=activity_regularizer, **kwargs)\n"
     ]
    },
    {
     "name": "stdout",
     "output_type": "stream",
     "text": [
      "Epoch 0, Loss: 23.6407337\n",
      "Momentum: MSE = 0.6211, MAE = 0.5900, R² = 0.5011\n",
      "9.90852\n"
     ]
    }
   ],
   "execution_count": 26
  },
  {
   "metadata": {},
   "cell_type": "markdown",
   "source": "### ***Nesterov***:",
   "id": "117276a6a6b517ec"
  },
  {
   "metadata": {
    "ExecuteTime": {
     "end_time": "2025-05-30T13:15:45.411174413Z",
     "start_time": "2025-05-30T12:46:30.991445Z"
    }
   },
   "cell_type": "code",
   "source": [
    "    model, _ = choose_model('alcohol',\"tensorflow\", \"Nesterov\")\n",
    "    print(model(sample_scaled))"
   ],
   "id": "fe83c1aa6eb3bc3b",
   "outputs": [
    {
     "name": "stdout",
     "output_type": "stream",
     "text": [
      "[DataLoader] shape=(1599, 12)\n"
     ]
    },
    {
     "name": "stderr",
     "output_type": "stream",
     "text": [
      "/home/letooow/PycharmProjects/PythonProject/.venv/lib/python3.12/site-packages/keras/src/layers/core/dense.py:93: UserWarning: Do not pass an `input_shape`/`input_dim` argument to a layer. When using Sequential models, prefer using an `Input(shape)` object as the first layer in the model instead.\n",
      "  super().__init__(activity_regularizer=activity_regularizer, **kwargs)\n"
     ]
    },
    {
     "name": "stdout",
     "output_type": "stream",
     "text": [
      "Epoch 0, Loss: 0.54085505\n",
      "Nesterov: MSE = 0.4023, MAE = 0.4855, R² = 0.6769\n",
      "9.602156\n"
     ]
    }
   ],
   "execution_count": 27
  },
  {
   "metadata": {},
   "cell_type": "markdown",
   "source": "### ***AdaGrad***:",
   "id": "85fc2e9c9f3390db"
  },
  {
   "metadata": {
    "ExecuteTime": {
     "end_time": "2025-05-30T13:15:45.412020359Z",
     "start_time": "2025-05-30T12:55:04.422779Z"
    }
   },
   "cell_type": "code",
   "source": [
    "    model, _ = choose_model('alcohol',\"tensorflow\", \"AdaGrad\", lr=0.9999991)\n",
    "    print(model(sample_scaled))"
   ],
   "id": "c3ab225c50bbe4e3",
   "outputs": [
    {
     "name": "stdout",
     "output_type": "stream",
     "text": [
      "[DataLoader] shape=(1599, 12)\n"
     ]
    },
    {
     "name": "stderr",
     "output_type": "stream",
     "text": [
      "/home/letooow/PycharmProjects/PythonProject/.venv/lib/python3.12/site-packages/keras/src/layers/core/dense.py:93: UserWarning: Do not pass an `input_shape`/`input_dim` argument to a layer. When using Sequential models, prefer using an `Input(shape)` object as the first layer in the model instead.\n",
      "  super().__init__(activity_regularizer=activity_regularizer, **kwargs)\n"
     ]
    },
    {
     "name": "stdout",
     "output_type": "stream",
     "text": [
      "Epoch 0, Loss: 18.9184189\n",
      "AdaGrad: MSE = 0.3489, MAE = 0.4539, R² = 0.7198\n",
      "9.646044\n"
     ]
    }
   ],
   "execution_count": 31
  },
  {
   "metadata": {},
   "cell_type": "markdown",
   "source": "### ***RMSProp***:",
   "id": "588010740b89de0d"
  },
  {
   "metadata": {
    "ExecuteTime": {
     "end_time": "2025-05-30T13:15:45.412469456Z",
     "start_time": "2025-05-30T12:46:39.514275Z"
    }
   },
   "cell_type": "code",
   "source": [
    "    model, _ = choose_model('alcohol',\"tensorflow\", \"RMSProp\")\n",
    "    print(model(sample_scaled))"
   ],
   "id": "1ccf20f73a84a951",
   "outputs": [
    {
     "name": "stdout",
     "output_type": "stream",
     "text": [
      "[DataLoader] shape=(1599, 12)\n"
     ]
    },
    {
     "name": "stderr",
     "output_type": "stream",
     "text": [
      "/home/letooow/PycharmProjects/PythonProject/.venv/lib/python3.12/site-packages/keras/src/layers/core/dense.py:93: UserWarning: Do not pass an `input_shape`/`input_dim` argument to a layer. When using Sequential models, prefer using an `Input(shape)` object as the first layer in the model instead.\n",
      "  super().__init__(activity_regularizer=activity_regularizer, **kwargs)\n"
     ]
    },
    {
     "name": "stdout",
     "output_type": "stream",
     "text": [
      "Epoch 0, Loss: 62.4272346\n",
      "RMSProp: MSE = 0.3856, MAE = 0.4913, R² = 0.6903\n",
      "9.903184\n"
     ]
    }
   ],
   "execution_count": 29
  },
  {
   "metadata": {},
   "cell_type": "markdown",
   "source": "### ***Adam***:",
   "id": "b07515cc05230ade"
  },
  {
   "metadata": {
    "ExecuteTime": {
     "end_time": "2025-05-30T13:15:45.412975511Z",
     "start_time": "2025-05-30T12:46:43.020744Z"
    }
   },
   "cell_type": "code",
   "source": [
    "    model, _ = choose_model('alcohol',\"tensorflow\", \"Adam\")\n",
    "    print(model(sample_scaled))"
   ],
   "id": "f3e998425a3ab643",
   "outputs": [
    {
     "name": "stdout",
     "output_type": "stream",
     "text": [
      "[DataLoader] shape=(1599, 12)\n"
     ]
    },
    {
     "name": "stderr",
     "output_type": "stream",
     "text": [
      "/home/letooow/PycharmProjects/PythonProject/.venv/lib/python3.12/site-packages/keras/src/layers/core/dense.py:93: UserWarning: Do not pass an `input_shape`/`input_dim` argument to a layer. When using Sequential models, prefer using an `Input(shape)` object as the first layer in the model instead.\n",
      "  super().__init__(activity_regularizer=activity_regularizer, **kwargs)\n"
     ]
    },
    {
     "name": "stdout",
     "output_type": "stream",
     "text": [
      "Epoch 0, Loss: 71.9465103\n",
      "Adam: MSE = 0.3992, MAE = 0.4837, R² = 0.6793\n",
      "9.348383\n"
     ]
    }
   ],
   "execution_count": 30
  },
  {
   "metadata": {},
   "cell_type": "markdown",
   "source": [
    "### Результат:\n",
    "\n",
    "| Optimizer |   MSE   |   MAE   |   R²   | Predict Value |\n",
    "|-----------|---------|---------|--------|---------------|\n",
    "| SGD       | 0.3468  | 0.4530  | 0.7214 | 9.589417      |\n",
    "| Momentum  | 0.6211  | 0.5900  | 0.5011 | 9.908520      |\n",
    "| Nesterov  | 0.4023  | 0.4855  | 0.6769 | 9.602156      |\n",
    "| AdaGrad   | 0.3489  | 0.4539  | 0.7198 | 9.646044      |\n",
    "| RMSProp   | 0.3856  | 0.4913  | 0.6903 | 9.903184      |\n",
    "| Adam      | 0.3992  | 0.4837  | 0.6793 | 9.348383      |\n",
    "\n"
   ],
   "id": "b6f81cdba543a166"
  },
  {
   "metadata": {},
   "cell_type": "markdown",
   "source": [
    "# Вывод\n",
    "\n"
   ],
   "id": "685fc12d28f1a5f0"
  },
  {
   "metadata": {},
   "cell_type": "markdown",
   "source": [
    "| Optimizer |  MSE (TF) | MSE (Torch) | Better MSE | R² (TF) | R² (Torch) | Better R² | MAE (TF) | MAE (Torch) | Better MAE | TF Predict | Torch Predict |\n",
    "|-----------|-----------|-------------|------------|---------|------------|-----------|----------|-------------|------------|-------------|----------------|\n",
    "| SGD       | 0.3468    | 0.35582     | TF         | 0.7214  | 0.71418    | TF        | 0.4530   | 0.46175     | TF         | 9.589417    | 9.615764       |\n",
    "| Momentum  | 0.6211    | 0.34623     | Torch      | 0.5011  | 0.72189    | Torch     | 0.5900   | 0.45548     | Torch      | 9.908520    | 9.652524       |\n",
    "| Nesterov  | 0.4023    | 0.34510     | Torch      | 0.6769  | 0.72279    | Torch     | 0.4855   | 0.45149     | Torch      | 9.602156    | 9.624092       |\n",
    "| AdaGrad   | 0.3489    | 0.47579     | TF         | 0.7198  | 0.61781    | TF        | 0.4539   | 0.51806     | TF         | 9.646044    | 9.254324       |\n",
    "| RMSProp   | 0.3856    | 0.36799     | Torch      | 0.6903  | 0.70441    | Torch     | 0.4913   | 0.45324     | Torch      | 9.903184    | 9.463510       |\n",
    "| Adam      | 0.3992    | 0.34945     | Torch      | 0.6793  | 0.71930    | Torch     | 0.4837   | 0.46032     | Torch      | 9.348383    | 9.677068       |\n",
    "\n",
    "\n",
    "\n",
    "| Категория                | **Keras (`tf.keras`)**                          | **PyTorch**                                     |\n",
    "| ------------------------ | ----------------------------------------------- | ----------------------------------------------- |\n",
    "| **Уровень абстракции**   | Высокоуровневый (ближе к \"конструктору\")        | Среднеуровневый (почти \"ручной\")                |\n",
    "| **Простота кода**        | Максимально простой (`model = Sequential(...)`) | Чуть сложнее, нужно писать классы               |\n",
    "| **Гибкость**             | Ограничена архитектурой Keras                   | Полная: кастомные forward, оптимизаторы, лоссы  |\n",
    "| **Обучение**             | Автоматическое через `.fit()`                   | Явное через `for epoch in range(...)`           |\n",
    "| **Отладка**              | Умеренная (сложно лезть внутрь `.fit()`)        | Отличная (можно пошагово дебажить `forward()`)  |\n",
    "| **Визуализация**         | Встроенная: `TensorBoard`, `model.summary()`    | Через `TensorBoard`, `wandb`, `matplotlib`      |\n",
    "| **Готовые модели**       | Очень много (`tf.keras.applications`)           | Много (`torchvision.models`, `torch.hub`)       |\n",
    "| **Совместимость**        | Плотно связан с TensorFlow                      | Независим, но интегрируется с ONNX              |\n"
   ],
   "id": "a8d5f8acfe8813c2"
  }
 ],
 "metadata": {
  "kernelspec": {
   "display_name": "Python 3",
   "language": "python",
   "name": "python3"
  },
  "language_info": {
   "codemirror_mode": {
    "name": "ipython",
    "version": 2
   },
   "file_extension": ".py",
   "mimetype": "text/x-python",
   "name": "python",
   "nbconvert_exporter": "python",
   "pygments_lexer": "ipython2",
   "version": "2.7.6"
  }
 },
 "nbformat": 4,
 "nbformat_minor": 5
}

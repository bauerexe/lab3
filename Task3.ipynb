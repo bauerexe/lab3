{
 "cells": [
  {
   "metadata": {},
   "cell_type": "markdown",
   "source": [
    "# Основное задание: Изучение библиотечных функций\n",
    "\n",
    "### Требования: keras.optimizers, torch.optim: SGD, и модификации SGD (Nesterov, Momentum, AdaGrad, RMSProp, Adam). Изучите параметры вызываемых библиотечных функций.\n",
    "\n",
    "# Изучение библиотеки _torch_\n",
    "\n",
    "##### Выбираем как _target_ alcohol и обучаем модель на датасете\n",
    "\n",
    "### ***SGD***:"
   ],
   "id": "6ba3d101b8af0f17"
  },
  {
   "metadata": {
    "ExecuteTime": {
     "end_time": "2025-05-30T12:46:21.627808Z",
     "start_time": "2025-05-30T12:46:21.477764Z"
    }
   },
   "cell_type": "code",
   "source": [
    "from libs.chooseLib import choose_model\n",
    "import numpy as np\n",
    "\n",
    "if __name__ == '__main__':\n",
    "    sample_raw = np.asarray(\n",
    "            [[7.4, 0.70, 0.00, 1.9, 0.076, 11, 34, 0.9978, 3.51, 0.56, 5]]\n",
    "        )\n",
    "\n",
    "    model, scaler = choose_model('alcohol',\"torch\", \"SGD\")\n",
    "    sample_scaled = scaler.transform(sample_raw)\n",
    "    print(model(sample_scaled))"
   ],
   "id": "5f60b98700569a9b",
   "outputs": [
    {
     "name": "stdout",
     "output_type": "stream",
     "text": [
      "[DataLoader] shape=(1599, 12)\n",
      "MSE: 0.35289, MAE: 0.45928, R²: 0.71654\n",
      "9.618028\n"
     ]
    }
   ],
   "execution_count": 19
  },
  {
   "metadata": {},
   "cell_type": "markdown",
   "source": "### ***Momentum***:",
   "id": "53f987ef5799b32c"
  },
  {
   "metadata": {
    "ExecuteTime": {
     "end_time": "2025-05-30T12:46:21.673171Z",
     "start_time": "2025-05-30T12:46:21.638088Z"
    }
   },
   "cell_type": "code",
   "source": [
    "    model, _ = choose_model('alcohol',\"torch\", \"Momentum\")\n",
    "    print(model(sample_scaled))"
   ],
   "id": "41eb2711c2d62e83",
   "outputs": [
    {
     "name": "stdout",
     "output_type": "stream",
     "text": [
      "[DataLoader] shape=(1599, 12)\n",
      "MSE: 0.34626, MAE: 0.45549, R²: 0.72186\n",
      "9.651606\n"
     ]
    }
   ],
   "execution_count": 20
  },
  {
   "metadata": {},
   "cell_type": "markdown",
   "source": "### ***Nesterov***:",
   "id": "4061022223641adc"
  },
  {
   "metadata": {
    "ExecuteTime": {
     "end_time": "2025-05-30T12:46:21.725631Z",
     "start_time": "2025-05-30T12:46:21.690065Z"
    }
   },
   "cell_type": "code",
   "source": [
    "    model, _ = choose_model('alcohol',\"torch\", \"Nesterov\")\n",
    "    print(model(sample_scaled))"
   ],
   "id": "1eb64f5d058ddfd7",
   "outputs": [
    {
     "name": "stdout",
     "output_type": "stream",
     "text": [
      "[DataLoader] shape=(1599, 12)\n",
      "MSE: 0.34513, MAE: 0.45151, R²: 0.72277\n",
      "9.624086\n"
     ]
    }
   ],
   "execution_count": 21
  },
  {
   "metadata": {},
   "cell_type": "markdown",
   "source": "### ***RMSProp***:",
   "id": "3d0f007ddfaa6f59"
  },
  {
   "metadata": {
    "ExecuteTime": {
     "end_time": "2025-05-30T12:46:21.781454Z",
     "start_time": "2025-05-30T12:46:21.742039Z"
    }
   },
   "cell_type": "code",
   "source": [
    "    model, _ = choose_model('alcohol',\"torch\", \"RMSProp\")\n",
    "    print(model(sample_scaled))"
   ],
   "id": "f207f65599caad77",
   "outputs": [
    {
     "name": "stdout",
     "output_type": "stream",
     "text": [
      "[DataLoader] shape=(1599, 12)\n",
      "MSE: 0.37037, MAE: 0.45557, R²: 0.70250\n",
      "9.425782\n"
     ]
    }
   ],
   "execution_count": 22
  },
  {
   "metadata": {},
   "cell_type": "markdown",
   "source": "### ***Adam***:",
   "id": "759a67db5a05b679"
  },
  {
   "metadata": {
    "ExecuteTime": {
     "end_time": "2025-05-30T12:46:21.880878Z",
     "start_time": "2025-05-30T12:46:21.793541Z"
    }
   },
   "cell_type": "code",
   "source": [
    "    model, _ = choose_model('alcohol',\"torch\", \"Adam\", lr=0.5)\n",
    "    print(model(sample_scaled))"
   ],
   "id": "ac5db5971b1811d1",
   "outputs": [
    {
     "name": "stdout",
     "output_type": "stream",
     "text": [
      "[DataLoader] shape=(1599, 12)\n",
      "MSE: 0.34831, MAE: 0.45912, R²: 0.72021\n",
      "9.675847\n"
     ]
    }
   ],
   "execution_count": 23
  },
  {
   "metadata": {},
   "cell_type": "markdown",
   "source": "### ***AdaGrad***:",
   "id": "2b4dd47bb0cdd26b"
  },
  {
   "metadata": {
    "ExecuteTime": {
     "end_time": "2025-05-30T12:46:21.932240Z",
     "start_time": "2025-05-30T12:46:21.890669Z"
    }
   },
   "cell_type": "code",
   "source": [
    "    model, _ = choose_model('alcohol',\"torch\", \"AdaGrad\", lr=0.9999991)\n",
    "    print(model(sample_scaled))"
   ],
   "id": "b1140970daa5a274",
   "outputs": [
    {
     "name": "stdout",
     "output_type": "stream",
     "text": [
      "[DataLoader] shape=(1599, 12)\n",
      "MSE: 0.42791, MAE: 0.48814, R²: 0.65628\n",
      "9.327294\n"
     ]
    }
   ],
   "execution_count": 24
  },
  {
   "metadata": {},
   "cell_type": "markdown",
   "source": [
    "---\n",
    "_Real Value: 9.4_\n",
    "\n",
    "| Optimizer    |     MSE      |     MAE      |     R²      | Predict Value (s) |\n",
    "|--------------|--------------|--------------|-------------|-------------------|\n",
    "| SGD          |   0.35582    |   0.46175    |   0.71418   | 9.615764          |\n",
    "| Momentum     |   0.34623    |   0.45548    |   0.72189   | 9.652524          |\n",
    "| Nesterov     |   0.34510    |   0.45149    |   0.72279   | 9.624092          |\n",
    "| RMSProp      |   0.36799    |   0.45324    |   0.70441   | 9.463510          |\n",
    "| Adam         |   0.34945    |   0.46032    |   0.71930   | 9.677068          |\n",
    "| AdaGrad      |   0.47579    |   0.51806    |   0.61781   | 9.254324          |\n",
    "\n",
    "---"
   ],
   "id": "2c69c17260715d0e"
  },
  {
   "metadata": {},
   "cell_type": "markdown",
   "source": "# Изучаем библиотеку _keras_",
   "id": "eec112fa597eb945"
  },
  {
   "metadata": {},
   "cell_type": "markdown",
   "source": "### ***SGD***:",
   "id": "8f8e5a7e015ff4ee"
  },
  {
   "metadata": {
    "ExecuteTime": {
     "end_time": "2025-05-30T12:46:27.239711Z",
     "start_time": "2025-05-30T12:46:21.954827Z"
    }
   },
   "cell_type": "code",
   "source": [
    "    model, _ = choose_model('alcohol',\"tensorflow\", \"SGD\")\n",
    "    print(model(sample_scaled))"
   ],
   "id": "7a06249c1e8097b",
   "outputs": [
    {
     "name": "stdout",
     "output_type": "stream",
     "text": [
      "[DataLoader] shape=(1599, 12)\n"
     ]
    },
    {
     "name": "stderr",
     "output_type": "stream",
     "text": [
      "2025-05-30 15:46:21.963569: E external/local_xla/xla/stream_executor/cuda/cuda_platform.cc:51] failed call to cuInit: INTERNAL: CUDA error: Failed call to cuInit: UNKNOWN ERROR (303)\n",
      "/home/letooow/PycharmProjects/PythonProject/.venv/lib/python3.12/site-packages/keras/src/layers/core/dense.py:93: UserWarning: Do not pass an `input_shape`/`input_dim` argument to a layer. When using Sequential models, prefer using an `Input(shape)` object as the first layer in the model instead.\n",
      "  super().__init__(activity_regularizer=activity_regularizer, **kwargs)\n"
     ]
    },
    {
     "name": "stdout",
     "output_type": "stream",
     "text": [
      "Epoch 0, Loss: 0.427412063\n",
      "SGD: MSE = 0.3468, MAE = 0.4530, R² = 0.7214\n",
      "9.589417\n"
     ]
    }
   ],
   "execution_count": 25
  },
  {
   "metadata": {},
   "cell_type": "markdown",
   "source": "### ***Momentum***:",
   "id": "6e144cd836e886a3"
  },
  {
   "metadata": {
    "ExecuteTime": {
     "end_time": "2025-05-30T12:46:30.976521Z",
     "start_time": "2025-05-30T12:46:27.247410Z"
    }
   },
   "cell_type": "code",
   "source": [
    "    model, _ = choose_model('alcohol',\"tensorflow\", \"Momentum\")\n",
    "    print(model(sample_scaled))"
   ],
   "id": "a86cc2d696f525d9",
   "outputs": [
    {
     "name": "stdout",
     "output_type": "stream",
     "text": [
      "[DataLoader] shape=(1599, 12)\n"
     ]
    },
    {
     "name": "stderr",
     "output_type": "stream",
     "text": [
      "/home/letooow/PycharmProjects/PythonProject/.venv/lib/python3.12/site-packages/keras/src/layers/core/dense.py:93: UserWarning: Do not pass an `input_shape`/`input_dim` argument to a layer. When using Sequential models, prefer using an `Input(shape)` object as the first layer in the model instead.\n",
      "  super().__init__(activity_regularizer=activity_regularizer, **kwargs)\n"
     ]
    },
    {
     "name": "stdout",
     "output_type": "stream",
     "text": [
      "Epoch 0, Loss: 23.6407337\n",
      "Momentum: MSE = 0.6211, MAE = 0.5900, R² = 0.5011\n",
      "9.90852\n"
     ]
    }
   ],
   "execution_count": 26
  },
  {
   "metadata": {},
   "cell_type": "markdown",
   "source": "### ***Nesterov***:",
   "id": "117276a6a6b517ec"
  },
  {
   "metadata": {
    "ExecuteTime": {
     "end_time": "2025-05-30T12:46:35.426802Z",
     "start_time": "2025-05-30T12:46:30.991445Z"
    }
   },
   "cell_type": "code",
   "source": [
    "    model, _ = choose_model('alcohol',\"tensorflow\", \"Nesterov\")\n",
    "    print(model(sample_scaled))"
   ],
   "id": "fe83c1aa6eb3bc3b",
   "outputs": [
    {
     "name": "stdout",
     "output_type": "stream",
     "text": [
      "[DataLoader] shape=(1599, 12)\n"
     ]
    },
    {
     "name": "stderr",
     "output_type": "stream",
     "text": [
      "/home/letooow/PycharmProjects/PythonProject/.venv/lib/python3.12/site-packages/keras/src/layers/core/dense.py:93: UserWarning: Do not pass an `input_shape`/`input_dim` argument to a layer. When using Sequential models, prefer using an `Input(shape)` object as the first layer in the model instead.\n",
      "  super().__init__(activity_regularizer=activity_regularizer, **kwargs)\n"
     ]
    },
    {
     "name": "stdout",
     "output_type": "stream",
     "text": [
      "Epoch 0, Loss: 0.54085505\n",
      "Nesterov: MSE = 0.4023, MAE = 0.4855, R² = 0.6769\n",
      "9.602156\n"
     ]
    }
   ],
   "execution_count": 27
  },
  {
   "metadata": {},
   "cell_type": "markdown",
   "source": "### ***AdaGrad***:",
   "id": "85fc2e9c9f3390db"
  },
  {
   "metadata": {
    "ExecuteTime": {
     "end_time": "2025-05-30T12:55:08.530026Z",
     "start_time": "2025-05-30T12:55:04.422779Z"
    }
   },
   "cell_type": "code",
   "source": [
    "    model, _ = choose_model('alcohol',\"tensorflow\", \"AdaGrad\", lr=0.9999991)\n",
    "    print(model(sample_scaled))"
   ],
   "id": "c3ab225c50bbe4e3",
   "outputs": [
    {
     "name": "stdout",
     "output_type": "stream",
     "text": [
      "[DataLoader] shape=(1599, 12)\n"
     ]
    },
    {
     "name": "stderr",
     "output_type": "stream",
     "text": [
      "/home/letooow/PycharmProjects/PythonProject/.venv/lib/python3.12/site-packages/keras/src/layers/core/dense.py:93: UserWarning: Do not pass an `input_shape`/`input_dim` argument to a layer. When using Sequential models, prefer using an `Input(shape)` object as the first layer in the model instead.\n",
      "  super().__init__(activity_regularizer=activity_regularizer, **kwargs)\n"
     ]
    },
    {
     "name": "stdout",
     "output_type": "stream",
     "text": [
      "Epoch 0, Loss: 18.9184189\n",
      "AdaGrad: MSE = 0.3489, MAE = 0.4539, R² = 0.7198\n",
      "9.646044\n"
     ]
    }
   ],
   "execution_count": 31
  },
  {
   "metadata": {},
   "cell_type": "markdown",
   "source": "### ***RMSProp***:",
   "id": "588010740b89de0d"
  },
  {
   "metadata": {
    "ExecuteTime": {
     "end_time": "2025-05-30T12:46:43.009246Z",
     "start_time": "2025-05-30T12:46:39.514275Z"
    }
   },
   "cell_type": "code",
   "source": [
    "    model, _ = choose_model('alcohol',\"tensorflow\", \"RMSProp\")\n",
    "    print(model(sample_scaled))"
   ],
   "id": "1ccf20f73a84a951",
   "outputs": [
    {
     "name": "stdout",
     "output_type": "stream",
     "text": [
      "[DataLoader] shape=(1599, 12)\n"
     ]
    },
    {
     "name": "stderr",
     "output_type": "stream",
     "text": [
      "/home/letooow/PycharmProjects/PythonProject/.venv/lib/python3.12/site-packages/keras/src/layers/core/dense.py:93: UserWarning: Do not pass an `input_shape`/`input_dim` argument to a layer. When using Sequential models, prefer using an `Input(shape)` object as the first layer in the model instead.\n",
      "  super().__init__(activity_regularizer=activity_regularizer, **kwargs)\n"
     ]
    },
    {
     "name": "stdout",
     "output_type": "stream",
     "text": [
      "Epoch 0, Loss: 62.4272346\n",
      "RMSProp: MSE = 0.3856, MAE = 0.4913, R² = 0.6903\n",
      "9.903184\n"
     ]
    }
   ],
   "execution_count": 29
  },
  {
   "metadata": {},
   "cell_type": "markdown",
   "source": "### ***Adam***:",
   "id": "b07515cc05230ade"
  },
  {
   "metadata": {
    "ExecuteTime": {
     "end_time": "2025-05-30T12:46:47.113595Z",
     "start_time": "2025-05-30T12:46:43.020744Z"
    }
   },
   "cell_type": "code",
   "source": [
    "    model, _ = choose_model('alcohol',\"tensorflow\", \"Adam\")\n",
    "    print(model(sample_scaled))"
   ],
   "id": "f3e998425a3ab643",
   "outputs": [
    {
     "name": "stdout",
     "output_type": "stream",
     "text": [
      "[DataLoader] shape=(1599, 12)\n"
     ]
    },
    {
     "name": "stderr",
     "output_type": "stream",
     "text": [
      "/home/letooow/PycharmProjects/PythonProject/.venv/lib/python3.12/site-packages/keras/src/layers/core/dense.py:93: UserWarning: Do not pass an `input_shape`/`input_dim` argument to a layer. When using Sequential models, prefer using an `Input(shape)` object as the first layer in the model instead.\n",
      "  super().__init__(activity_regularizer=activity_regularizer, **kwargs)\n"
     ]
    },
    {
     "name": "stdout",
     "output_type": "stream",
     "text": [
      "Epoch 0, Loss: 71.9465103\n",
      "Adam: MSE = 0.3992, MAE = 0.4837, R² = 0.6793\n",
      "9.348383\n"
     ]
    }
   ],
   "execution_count": 30
  },
  {
   "metadata": {},
   "cell_type": "markdown",
   "source": [
    "### Результат:\n",
    "\n",
    "| Optimizer |   MSE   |   MAE   |   R²   | Predict Value |\n",
    "|-----------|---------|---------|--------|---------------|\n",
    "| SGD       | 0.3468  | 0.4530  | 0.7214 | 9.589417      |\n",
    "| Momentum  | 0.6211  | 0.5900  | 0.5011 | 9.908520      |\n",
    "| Nesterov  | 0.4023  | 0.4855  | 0.6769 | 9.602156      |\n",
    "| AdaGrad   | 0.3489  | 0.4539  | 0.7198 | 9.646044      |\n",
    "| RMSProp   | 0.3856  | 0.4913  | 0.6903 | 9.903184      |\n",
    "| Adam      | 0.3992  | 0.4837  | 0.6793 | 9.348383      |\n",
    "\n"
   ],
   "id": "b6f81cdba543a166"
  },
  {
   "metadata": {},
   "cell_type": "markdown",
   "source": [
    "# Вывод\n",
    "\n"
   ],
   "id": "685fc12d28f1a5f0"
  },
  {
   "metadata": {},
   "cell_type": "markdown",
   "source": [
    "| Optimizer |  MSE (TF) | MSE (Torch) | Better MSE | R² (TF) | R² (Torch) | Better R² | MAE (TF) | MAE (Torch) | Better MAE | TF Predict | Torch Predict |\n",
    "|-----------|-----------|-------------|------------|---------|------------|-----------|----------|-------------|------------|-------------|----------------|\n",
    "| SGD       | 0.3468    | 0.35582     | TF         | 0.7214  | 0.71418    | TF        | 0.4530   | 0.46175     | TF         | 9.589417    | 9.615764       |\n",
    "| Momentum  | 0.6211    | 0.34623     | Torch      | 0.5011  | 0.72189    | Torch     | 0.5900   | 0.45548     | Torch      | 9.908520    | 9.652524       |\n",
    "| Nesterov  | 0.4023    | 0.34510     | Torch      | 0.6769  | 0.72279    | Torch     | 0.4855   | 0.45149     | Torch      | 9.602156    | 9.624092       |\n",
    "| AdaGrad   | 0.3489    | 0.47579     | TF         | 0.7198  | 0.61781    | TF        | 0.4539   | 0.51806     | TF         | 9.646044    | 9.254324       |\n",
    "| RMSProp   | 0.3856    | 0.36799     | Torch      | 0.6903  | 0.70441    | Torch     | 0.4913   | 0.45324     | Torch      | 9.903184    | 9.463510       |\n",
    "| Adam      | 0.3992    | 0.34945     | Torch      | 0.6793  | 0.71930    | Torch     | 0.4837   | 0.46032     | Torch      | 9.348383    | 9.677068       |\n",
    "\n",
    "\n",
    "\n",
    "| Категория                | **Keras (`tf.keras`)**                          | **PyTorch**                                     |\n",
    "| ------------------------ | ----------------------------------------------- | ----------------------------------------------- |\n",
    "| **Уровень абстракции**   | Высокоуровневый (ближе к \"конструктору\")        | Среднеуровневый (почти \"ручной\")                |\n",
    "| **Простота кода**        | Максимально простой (`model = Sequential(...)`) | Чуть сложнее, нужно писать классы               |\n",
    "| **Гибкость**             | Ограничена архитектурой Keras                   | Полная: кастомные forward, оптимизаторы, лоссы  |\n",
    "| **Обучение**             | Автоматическое через `.fit()`                   | Явное через `for epoch in range(...)`           |\n",
    "| **Отладка**              | Умеренная (сложно лезть внутрь `.fit()`)        | Отличная (можно пошагово дебажить `forward()`)  |\n",
    "| **Визуализация**         | Встроенная: `TensorBoard`, `model.summary()`    | Через `TensorBoard`, `wandb`, `matplotlib`      |\n",
    "| **Готовые модели**       | Очень много (`tf.keras.applications`)           | Много (`torchvision.models`, `torch.hub`)       |\n",
    "| **Совместимость**        | Плотно связан с TensorFlow                      | Независим, но интегрируется с ONNX              |\n"
   ],
   "id": "a8d5f8acfe8813c2"
  }
 ],
 "metadata": {
  "kernelspec": {
   "display_name": "Python 3",
   "language": "python",
   "name": "python3"
  },
  "language_info": {
   "codemirror_mode": {
    "name": "ipython",
    "version": 2
   },
   "file_extension": ".py",
   "mimetype": "text/x-python",
   "name": "python",
   "nbconvert_exporter": "python",
   "pygments_lexer": "ipython2",
   "version": "2.7.6"
  }
 },
 "nbformat": 4,
 "nbformat_minor": 5
}

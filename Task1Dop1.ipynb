{
 "cells": [
  {
   "cell_type": "code",
   "id": "initial_id",
   "metadata": {
    "collapsed": true
   },
   "source": "",
   "outputs": [],
   "execution_count": null
  },
  {
   "metadata": {
    "ExecuteTime": {
     "end_time": "2025-05-28T20:53:05.508878Z",
     "start_time": "2025-05-28T20:53:05.224711Z"
    }
   },
   "cell_type": "code",
   "source": [
    "import numpy as np\n",
    "\n",
    "# --- оптимизаторы / планировщики / модель ----------------------------------\n",
    "from core.optimizers import Adam, Nesterov\n",
    "from core.schedulers import PolynomialDecay\n",
    "from core.sgd import SGDRegressor\n",
    "\n",
    "# ---- 1. генерируем/загружаем данные ---------------------------------------\n",
    "rng = np.random.default_rng(0)\n",
    "X = rng.standard_normal((1000, 5))\n",
    "w = rng.standard_normal(5)\n",
    "y = X @ w + rng.normal(scale=0.1, size=1000)\n",
    "\n",
    "X_train, X_test = X[:800], X[800:]\n",
    "y_train, y_test = y[:800], y[800:]\n",
    "\n",
    "# ---- 2. модель с Adam ------------------------------------------------------\n",
    "adam_opt = Adam(lr=1e-3, weight_decay=1e-4)\n",
    "\n",
    "model_adam = SGDRegressor(\n",
    "    optimizer=adam_opt,\n",
    "    batch_size=32,\n",
    "    max_iter=2000,\n",
    "    init=\"he\",\n",
    "    clip_norm=5.0,\n",
    ")\n",
    "model_adam.fit(X_train, y_train)\n",
    "print(\"Adam  R² =\", model_adam.score if hasattr(model_adam, 'score') else\n",
    "      np.corrcoef(model_adam.predict(X_test), y_test)[0, 1]**2)\n",
    "\n",
    "# ---- 3. модель с Nesterov + PolynomialDecay --------------------------------\n",
    "nesterov_opt = Nesterov(lr=1e-2, beta=.9)\n",
    "\n",
    "poly_sched = PolynomialDecay(lr0=1e-2, alpha=.5, beta=1)\n",
    "\n",
    "model_nest = SGDRegressor(\n",
    "    optimizer=nesterov_opt,          # если хотим оптимизатор\n",
    "    lr_schedule=None,                # тогда планировщик не нужен\n",
    "    batch_size=64,\n",
    "    max_iter=3000,\n",
    ")\n",
    "model_nest.fit(X_train, y_train)\n",
    "\n",
    "print(\"Nesterov R² =\",\n",
    "      np.corrcoef(model_nest.predict(X_test), y_test)[0, 1]**2)\n",
    "\n",
    "# ---- 4. чистый SGD + polynomial scheduler (без внешнего оптимизатора) ------\n",
    "model_poly = SGDRegressor(\n",
    "    lr_schedule=poly_sched,\n",
    "    batch_size=64,\n",
    "    max_iter=3000,\n",
    ")\n",
    "model_poly.fit(X_train, y_train)\n",
    "print(\"Poly-Sched R² =\",\n",
    "      np.corrcoef(model_poly.predict(X_test), y_test)[0, 1]**2)\n"
   ],
   "id": "c69a11db2b1b23fb",
   "outputs": [
    {
     "name": "stdout",
     "output_type": "stream",
     "text": [
      "Adam  R² = 0.9936056458803151\n",
      "Nesterov R² = 0.997627600619082\n",
      "Poly-Sched R² = 0.9968810997380787\n"
     ]
    }
   ],
   "execution_count": 1
  },
  {
   "metadata": {},
   "cell_type": "code",
   "source": "",
   "id": "f0e87f630af97987",
   "outputs": [],
   "execution_count": null
  },
  {
   "metadata": {
    "ExecuteTime": {
     "end_time": "2025-05-28T20:59:55.112109Z",
     "start_time": "2025-05-28T20:59:55.061638Z"
    }
   },
   "cell_type": "code",
   "source": [
    "from core.schedulers import StepDecayScheduler\n",
    "from core.sgd import SGDRegressor\n",
    "sched = StepDecayScheduler(lr0=1e-2, step=500, gamma=0.5)\n",
    "\n",
    "model = SGDRegressor(\n",
    "    lr_schedule=sched,\n",
    "    penalty=\"l2\",\n",
    "    alpha=1e-2,\n",
    "    batch_size=64,\n",
    "    max_iter=2000,\n",
    ")\n",
    "model.fit(X_train, y_train)\n",
    "print(\"R² =\", model(X_test).var())   # пример вызова\n"
   ],
   "id": "aeded1387c049a3f",
   "outputs": [
    {
     "name": "stdout",
     "output_type": "stream",
     "text": [
      "R² = 4.108085927200493\n"
     ]
    }
   ],
   "execution_count": 2
  }
 ],
 "metadata": {
  "kernelspec": {
   "display_name": "Python 3",
   "language": "python",
   "name": "python3"
  },
  "language_info": {
   "codemirror_mode": {
    "name": "ipython",
    "version": 2
   },
   "file_extension": ".py",
   "mimetype": "text/x-python",
   "name": "python",
   "nbconvert_exporter": "python",
   "pygments_lexer": "ipython2",
   "version": "2.7.6"
  }
 },
 "nbformat": 4,
 "nbformat_minor": 5
}

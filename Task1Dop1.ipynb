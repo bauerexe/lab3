{
 "cells": [
  {
   "cell_type": "code",
   "id": "initial_id",
   "metadata": {
    "collapsed": true,
    "ExecuteTime": {
     "end_time": "2025-05-21T11:16:32.268067Z",
     "start_time": "2025-05-21T11:16:30.679382Z"
    }
   },
   "source": [
    "from utils.data_loader import load_ccpp\n",
    "X_tr, X_te, y_tr, y_te = load_ccpp(scale=False)\n",
    "print(X_tr.shape, y_tr[:3].ravel())\n",
    "\n",
    "'''\n",
    "(7654, 4)            # размеры X_train\n",
    "[443.31 490.96 483.94]  # первые 3 значения y_train\n",
    "\n",
    "7654 — количество объектов, попавших в обучающую выборку.\n",
    "В исходном наборе 9 568 строк, а load_ccpp() по-умолчанию делит данные\n",
    "на 80 % / 20 %. 80 % от 9 568 ≈ 7 654 — цифра и совпала.\n",
    "\n",
    "4 — число признаков (температура T, вакуумное давление V,\n",
    "абсолютное давление AP, влажность RH).\n",
    "\n",
    "Cразу после кортежа печатаются первые три истинные значения целевой\n",
    "переменной PE (выходная мощность турбины в МВт).\n",
    "'''"
   ],
   "outputs": [
    {
     "name": "stdout",
     "output_type": "stream",
     "text": [
      "(7654, 4) [443.31 490.96 483.94]\n"
     ]
    },
    {
     "data": {
      "text/plain": [
       "'\\n(7654, 4)            # размеры X_train\\n[443.31 490.96 483.94]  # первые 3 значения y_train\\n\\n7654 — количество объектов, попавших в обучающую выборку.\\nВ исходном наборе 9 568 строк, а load_ccpp() по-умолчанию делит данные\\nна 80 % / 20 %. 80 % от 9 568 ≈ 7 654 — цифра и совпала.\\n\\n4 — число признаков (температура T, вакуумное давление V,\\nабсолютное давление AP, влажность RH).\\n\\nCразу после кортежа печатаются первые три истинные значения целевой\\nпеременной PE (выходная мощность турбины в МВт).\\n'"
      ]
     },
     "execution_count": 1,
     "metadata": {},
     "output_type": "execute_result"
    }
   ],
   "execution_count": 1
  },
  {
   "metadata": {
    "ExecuteTime": {
     "end_time": "2025-05-21T17:34:27.075890Z",
     "start_time": "2025-05-21T17:34:27.030249Z"
    }
   },
   "cell_type": "code",
   "source": [
    "import numpy as np\n",
    "from utils.data_loader import load_ccpp\n",
    "from utils.metrics import evaluate_optimizer\n",
    "from core.schedulers import ExponentialDecayScheduler\n",
    "from core.sgd_variants import Adam\n",
    "\n",
    "# Определяем loss/grad-функции для MSE-регрессии\n",
    "def loss_fn(X, y, w):\n",
    "    ### loss_fn считает MSE (Mean Squared Error) — средний квадрат отклонения\n",
    "    preds = X @ w\n",
    "    return float(np.mean((preds - y)**2))\n",
    "\n",
    "def grad_fn(X, y, w):\n",
    "    ### даёт аналитический градиент этой MSE по вектору весов w\n",
    "    preds = X @ w\n",
    "    return 2 * X.T @ (preds - y) / len(X)\n",
    "\n",
    "# Загружаем данные\n",
    "X_tr, X_te, y_tr, y_te = load_ccpp(scale=True)\n",
    "\n",
    "# Создаём оптимизатор Adam и делаем оценку\n",
    "opt = Adam(\n",
    "    learning_rate=1e-3,\n",
    "    batch_size=256,\n",
    "    scheduler=ExponentialDecayScheduler(1e-3, lam=1e-4),\n",
    "    max_iter=200,\n",
    "    reg={\"l2\": 1e-4},\n",
    ")\n",
    "\n",
    "# Оценкаhttps://archive.ics.uci.edu/\n",
    "metrics = evaluate_optimizer(\n",
    "    opt, loss_fn, grad_fn,\n",
    "    X_tr, y_tr, X_te, y_te,\n",
    "    eps=1e-6\n",
    ")\n",
    "print(metrics)\n",
    "print(\"Test RMSE:\", metrics[\"test_rmse\"]) #RMSE (Root MSE) — корень из MSE. Это средняя величина ошибки в тех же единицах, что и y.\n",
    "# Test RMSE ≈ 0.264 говорит, что после стандартизации среднеквадратичное отклонение предсказаний от истины ≈ 0.264σ.\n",
    "print(\"Peak memory (MB):\", metrics[\"mem_peak_bytes\"] / 1024**2)\n",
    "print(\"Number of steps:\", metrics[\"n_steps\"])\n",
    "'''\n",
    "batch_size=256 → на каждой итерации берётся по 256 случайных точек\n",
    "\n",
    "max_iter=200 → всего не больше 200 эпох (≈ 200 × ⌈7654/256⌉ ≈ 6000 шагов)\n",
    "\n",
    "reg={\"l2\":1e-4} → добавляем L2-регуляризацию\n",
    "\n",
    "evaluate_optimizer:\n",
    "\n",
    "    профилирует пиковую память (tracemalloc)\n",
    "\n",
    "    замеряет время работы\n",
    "\n",
    "    возвращает\n",
    "\n",
    "        train/test MSE, RMSE, MAE, R²\n",
    "\n",
    "        число сделанных шагов (n_steps)\n",
    "\n",
    "        пиковую память (mem_peak_bytes)\n",
    "\n",
    "        историю loss по эпохам (history)'''"
   ],
   "id": "c69a11db2b1b23fb",
   "outputs": [
    {
     "name": "stdout",
     "output_type": "stream",
     "text": [
      "[[4.]\n",
      " [1.]\n",
      " [6.]]  \n",
      " [[3. ]\n",
      " [0.9]\n",
      " [4.4]]\n",
      "Test RMSE: 0.16205388578705696\n",
      "Peak memory (MB): 0.008691787719726562\n",
      "Number of steps: 200\n"
     ]
    },
    {
     "data": {
      "text/plain": [
       "'\\nbatch_size=256 → на каждой итерации берётся по 256 случайных точек\\n\\nmax_iter=200 → всего не больше 200 эпох (≈ 200 × ⌈7654/256⌉ ≈ 6000 шагов)\\n\\nreg={\"l2\":1e-4} → добавляем L2-регуляризацию\\n\\nevaluate_optimizer:\\n\\n    профилирует пиковую память (tracemalloc)\\n\\n    замеряет время работы\\n\\n    возвращает\\n\\n        train/test MSE, RMSE, MAE, R²\\n\\n        число сделанных шагов (n_steps)\\n\\n        пиковую память (mem_peak_bytes)\\n\\n        историю loss по эпохам (history)'"
      ]
     },
     "execution_count": 3,
     "metadata": {},
     "output_type": "execute_result"
    }
   ],
   "execution_count": 3
  },
  {
   "metadata": {},
   "cell_type": "code",
   "outputs": [],
   "execution_count": null,
   "source": "",
   "id": "f0e87f630af97987"
  }
 ],
 "metadata": {
  "kernelspec": {
   "display_name": "Python 3",
   "language": "python",
   "name": "python3"
  },
  "language_info": {
   "codemirror_mode": {
    "name": "ipython",
    "version": 2
   },
   "file_extension": ".py",
   "mimetype": "text/x-python",
   "name": "python",
   "nbconvert_exporter": "python",
   "pygments_lexer": "ipython2",
   "version": "2.7.6"
  }
 },
 "nbformat": 4,
 "nbformat_minor": 5
}
